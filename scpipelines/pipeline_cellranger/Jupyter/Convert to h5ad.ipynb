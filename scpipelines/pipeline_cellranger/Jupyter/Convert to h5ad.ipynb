{
 "cells": [
  {
   "cell_type": "code",
   "execution_count": 1,
   "metadata": {},
   "outputs": [],
   "source": [
    "from anndata import AnnData\n",
    "import anndata\n",
    "from scipy import sparse\n",
    "import scipy\n",
    "import scipy.io\n",
    "import os\n",
    "import pandas as pd"
   ]
  },
  {
   "cell_type": "code",
   "execution_count": 2,
   "metadata": {},
   "outputs": [
    {
     "name": "stdout",
     "output_type": "stream",
     "text": [
      "AnnData object with n_obs × n_vars = 57398 × 60676 \n"
     ]
    }
   ],
   "source": [
    "unspliced = anndata.AnnData(scipy.io.mmread(\"unspliced.mtx\").tocsr())\n",
    "unspliced.obs = pd.read_csv(\"unspliced.barcodes.txt\", index_col = 0, header = None, names = ['barcodes'])\n",
    "unspliced.var = pd.read_csv(\"unspliced.genes.txt\", header = None, index_col = 0, names = ['ensembl_id'], sep=\"\\t\")\n",
    "print(unspliced)"
   ]
  },
  {
   "cell_type": "code",
   "execution_count": 3,
   "metadata": {},
   "outputs": [
    {
     "name": "stdout",
     "output_type": "stream",
     "text": [
      "AnnData object with n_obs × n_vars = 57394 × 60676 \n"
     ]
    }
   ],
   "source": [
    "spliced = anndata.AnnData(scipy.io.mmread(\"spliced.mtx\").tocsr())\n",
    "spliced.obs = pd.read_csv(\"spliced.barcodes.txt\", index_col = 0, header = None, names = ['barcodes'])\n",
    "spliced.var = pd.read_csv(\"spliced.genes.txt\", header = None, index_col = 0, names = ['ensembl_id'], sep=\"\\t\")\n",
    "print(spliced)"
   ]
  },
  {
   "cell_type": "code",
   "execution_count": 4,
   "metadata": {},
   "outputs": [
    {
     "data": {
      "text/html": [
       "<div>\n",
       "<style scoped>\n",
       "    .dataframe tbody tr th:only-of-type {\n",
       "        vertical-align: middle;\n",
       "    }\n",
       "\n",
       "    .dataframe tbody tr th {\n",
       "        vertical-align: top;\n",
       "    }\n",
       "\n",
       "    .dataframe thead th {\n",
       "        text-align: right;\n",
       "    }\n",
       "</style>\n",
       "<table border=\"1\" class=\"dataframe\">\n",
       "  <thead>\n",
       "    <tr style=\"text-align: right;\">\n",
       "      <th></th>\n",
       "    </tr>\n",
       "    <tr>\n",
       "      <th>barcodes</th>\n",
       "    </tr>\n",
       "  </thead>\n",
       "  <tbody>\n",
       "    <tr>\n",
       "      <td>AAAAAAACATAC</td>\n",
       "    </tr>\n",
       "    <tr>\n",
       "      <td>AAAAAAATTAGC</td>\n",
       "    </tr>\n",
       "    <tr>\n",
       "      <td>AAAAAACAAAGT</td>\n",
       "    </tr>\n",
       "    <tr>\n",
       "      <td>AAAAAACCAACA</td>\n",
       "    </tr>\n",
       "    <tr>\n",
       "      <td>AAAAAACCAGTA</td>\n",
       "    </tr>\n",
       "  </tbody>\n",
       "</table>\n",
       "</div>"
      ],
      "text/plain": [
       "Empty DataFrame\n",
       "Columns: []\n",
       "Index: [AAAAAAACATAC, AAAAAAATTAGC, AAAAAACAAAGT, AAAAAACCAACA, AAAAAACCAGTA]"
      ]
     },
     "execution_count": 4,
     "metadata": {},
     "output_type": "execute_result"
    }
   ],
   "source": [
    "unspliced.obs.head()"
   ]
  },
  {
   "cell_type": "code",
   "execution_count": 5,
   "metadata": {},
   "outputs": [
    {
     "data": {
      "text/html": [
       "<div>\n",
       "<style scoped>\n",
       "    .dataframe tbody tr th:only-of-type {\n",
       "        vertical-align: middle;\n",
       "    }\n",
       "\n",
       "    .dataframe tbody tr th {\n",
       "        vertical-align: top;\n",
       "    }\n",
       "\n",
       "    .dataframe thead th {\n",
       "        text-align: right;\n",
       "    }\n",
       "</style>\n",
       "<table border=\"1\" class=\"dataframe\">\n",
       "  <thead>\n",
       "    <tr style=\"text-align: right;\">\n",
       "      <th></th>\n",
       "    </tr>\n",
       "    <tr>\n",
       "      <th>ensembl_id</th>\n",
       "    </tr>\n",
       "  </thead>\n",
       "  <tbody>\n",
       "    <tr>\n",
       "      <td>ENSG00000001460.18</td>\n",
       "    </tr>\n",
       "    <tr>\n",
       "      <td>ENSG00000001461.17</td>\n",
       "    </tr>\n",
       "    <tr>\n",
       "      <td>ENSG00000010072.16</td>\n",
       "    </tr>\n",
       "    <tr>\n",
       "      <td>ENSG00000008118.10</td>\n",
       "    </tr>\n",
       "    <tr>\n",
       "      <td>ENSG00000009780.15</td>\n",
       "    </tr>\n",
       "  </tbody>\n",
       "</table>\n",
       "</div>"
      ],
      "text/plain": [
       "Empty DataFrame\n",
       "Columns: []\n",
       "Index: [ENSG00000001460.18, ENSG00000001461.17, ENSG00000010072.16, ENSG00000008118.10, ENSG00000009780.15]"
      ]
     },
     "execution_count": 5,
     "metadata": {},
     "output_type": "execute_result"
    }
   ],
   "source": [
    "unspliced.var.head()"
   ]
  },
  {
   "cell_type": "markdown",
   "metadata": {},
   "source": [
    "# Sum the spliced and unspliced"
   ]
  },
  {
   "cell_type": "code",
   "execution_count": 6,
   "metadata": {},
   "outputs": [],
   "source": [
    "idx = spliced.obs.index.intersection(unspliced.obs.index)\n",
    "spliced_intersection = spliced[idx]\n",
    "unspliced_intersection = unspliced[idx]"
   ]
  },
  {
   "cell_type": "code",
   "execution_count": 7,
   "metadata": {},
   "outputs": [
    {
     "data": {
      "text/plain": [
       "<57394x60676 sparse matrix of type '<class 'numpy.float32'>'\n",
       "\twith 4112878 stored elements in Compressed Sparse Row format>"
      ]
     },
     "execution_count": 7,
     "metadata": {},
     "output_type": "execute_result"
    }
   ],
   "source": [
    "spliced_intersection.X + unspliced_intersection.X"
   ]
  },
  {
   "cell_type": "code",
   "execution_count": 8,
   "metadata": {},
   "outputs": [
    {
     "data": {
      "text/plain": [
       "AnnData object with n_obs × n_vars = 57394 × 60676 "
      ]
     },
     "execution_count": 8,
     "metadata": {},
     "output_type": "execute_result"
    }
   ],
   "source": [
    "spliced_plus_unspliced = spliced_intersection.copy()\n",
    "spliced_plus_unspliced.X = spliced_intersection.X + unspliced_intersection.X\n",
    "spliced_plus_unspliced"
   ]
  },
  {
   "cell_type": "code",
   "execution_count": 9,
   "metadata": {},
   "outputs": [],
   "source": [
    "spliced_plus_unspliced.write(filename=\"adata.h5ad\", )"
   ]
  }
 ],
 "metadata": {
  "kernelspec": {
   "display_name": "Python 3",
   "language": "python",
   "name": "python3"
  },
  "language_info": {
   "codemirror_mode": {
    "name": "ipython",
    "version": 3
   },
   "file_extension": ".py",
   "mimetype": "text/x-python",
   "name": "python",
   "nbconvert_exporter": "python",
   "pygments_lexer": "ipython3",
   "version": "3.7.3"
  }
 },
 "nbformat": 4,
 "nbformat_minor": 2
}
