{
 "cells": [
  {
   "cell_type": "code",
   "execution_count": 1,
   "id": "5d5e783d-2f4e-4f11-abb2-8dbb4c054cf7",
   "metadata": {
    "pycharm": {
     "is_executing": true,
     "name": "#%%\n"
    }
   },
   "outputs": [],
   "source": [
    "import os\n",
    "import re\n",
    "import sys\n",
    "import glob\n",
    "import desc\n",
    "import shutil\n",
    "import numpy as np\n",
    "import pandas as pd\n",
    "from scipy import sparse, io\n",
    "import matplotlib\n",
    "import matplotlib.pyplot as plt\n",
    "import anndata as ad\n",
    "import scanpy as sc"
   ]
  },
  {
   "cell_type": "code",
   "execution_count": 2,
   "id": "3d212b16-cf43-4f9f-8d45-3b4f5ee19949",
   "metadata": {
    "pycharm": {
     "name": "#%%\n"
    }
   },
   "outputs": [],
   "source": [
    "matplotlib.rcParams.update({'font.size': 12})\n",
    "# %config InlineBackend.figure_format = 'retina'\n",
    "sc.settings.set_figure_params(dpi=80)\n",
    "sc.settings.verbosity = 3 # verbosity: errors (0), warnings (1), info (2), hints (3)\n",
    "# https://nbisweden.github.io/workshop-scRNAseq/labs/compiled/scanpy/scanpy_01_qc.html\n",
    "# https://eleozzr.github.io/desc/tutorial.html"
   ]
  },
  {
   "cell_type": "code",
   "execution_count": 46,
   "id": "a6073262-3ba7-4030-b12e-b89fd72abe61",
   "metadata": {
    "pycharm": {
     "name": "#%%\n"
    }
   },
   "outputs": [],
   "source": [
    "# cmd params\n",
    "arg_keys = {\n",
    "    'work_dir': \"--work_dir=\",\n",
    "}\n",
    "args = dict()\n",
    "for argv in sys.argv[1:]:\n",
    "    for k, arg_key in arg_keys.items():\n",
    "        if argv.find(arg_key) == 0:\n",
    "            args[k] = argv[len(arg_key):]"
   ]
  },
  {
   "cell_type": "code",
   "execution_count": 3,
   "id": "2fdcdb52-0d78-476a-8864-c3dedf9542d4",
   "metadata": {},
   "outputs": [],
   "source": [
    "# ### /** Windows operation system **/\n",
    "# work_dir = 'D:/Document/Programming/Python/deepbio/symphony/github/scanalysis/scqqapy/data/h5/sarcoma/'\n",
    "# args = dict()\n",
    "# args['work_dir'] = work_dir\n",
    "# args['data_work_dir'] = work_dir\n",
    "# args['fig_work_dir'] = work_dir\n",
    "\n",
    "# ### /** Linux operation system **/\n",
    "args['data_work_dir'] = args['work_dir'] + 'scanpy_integ_5_be.dir/'\n",
    "args['fig_work_dir'] = args['work_dir'] + 'scanpy_integ_5_be_fig.dir/'"
   ]
  },
  {
   "cell_type": "code",
   "execution_count": 4,
   "id": "a55cdff2-f521-4ee5-9010-14e842fabf45",
   "metadata": {},
   "outputs": [
    {
     "name": "stdout",
     "output_type": "stream",
     "text": [
      "119289-CCS-08-snRNAseq_S2    6717\n",
      "119290-CCS-15-snRNAseq_S3    2029\n",
      "119291-CCS-72-snRNAseq_S4    2021\n",
      "119288-CCS-07-snRNAseq_S1    1251\n",
      "Name: sample, dtype: int64\n"
     ]
    }
   ],
   "source": [
    "# read\n",
    "adata = sc.read_h5ad(args['work_dir'] + 'scanpy_integ_4_doublet.dir/adata_rv_dblt.h5ad')\n",
    "print(adata.obs['sample'].value_counts())"
   ]
  },
  {
   "cell_type": "markdown",
   "id": "d95c61ae-4aac-4fb4-b857-d6e33a8a1026",
   "metadata": {
    "pycharm": {
     "name": "#%% md\n"
    }
   },
   "source": [
    "## Batch effect"
   ]
  },
  {
   "cell_type": "code",
   "execution_count": 5,
   "id": "acd9106e-8e07-4a6d-ac58-a353f269b743",
   "metadata": {
    "pycharm": {
     "name": "#%%\n"
    }
   },
   "outputs": [],
   "source": [
    "def console(adata):\n",
    "    print('remaining cells: {}, remaining genes: {}'.format(adata.X.shape[0], adata.X.shape[1]))\n",
    "\n",
    "    \n",
    "def saveTo(old_fn='scatter', new_fn='stat_basic', kind='.pdf'):\n",
    "    os.replace(os.path.join(os.getcwd(), 'figures/' + old_fn + kind), os.path.join(os.getcwd(), 'figures/' + new_fn + kind))\n",
    "    shutil.move(os.path.join(os.getcwd(), 'figures/' + new_fn + kind), args['fig_work_dir'] + new_fn + kind)\n",
    "    shutil.rmtree(os.path.join(os.getcwd(), 'figures'))"
   ]
  },
  {
   "cell_type": "code",
   "execution_count": 6,
   "id": "90cfc407-d6eb-413e-84e5-61ed3d7cd2f8",
   "metadata": {},
   "outputs": [
    {
     "data": {
      "text/plain": [
       "AnnData object with n_obs × n_vars = 12018 × 34540\n",
       "    obs: 'type', 'sample', 'batch', 'n_counts', 'pct_ribo', 'pct_hb', 'pct_mito', 'pct_chrY', 'cnt_XIST', 'n_genes', 'S_score', 'G2M_score', 'phase', 'doublet_scores', 'predicted_doublets', 'doublet_info'\n",
       "    var: 'gene_name', 'n_cells'\n",
       "    uns: 'doublet_info_colors', 'sample_colors'"
      ]
     },
     "execution_count": 6,
     "metadata": {},
     "output_type": "execute_result"
    }
   ],
   "source": [
    "adata_cp = adata.copy()\n",
    "adata_cp"
   ]
  },
  {
   "cell_type": "code",
   "execution_count": 7,
   "id": "3d6ef508-3001-4d84-95ea-5e12731f47e7",
   "metadata": {},
   "outputs": [
    {
     "name": "stdout",
     "output_type": "stream",
     "text": [
      "normalizing by total count per cell\n",
      "    finished (0:00:00): normalized adata.X and added    'n_counts', counts per cell before normalization (adata.obs)\n",
      "... as `zero_center=True`, sparse input is densified and may lead to large memory consumption\n"
     ]
    }
   ],
   "source": [
    "sc.pp.normalize_per_cell(adata_cp, counts_per_cell_after=1e4)\n",
    "sc.pp.log1p(adata_cp)\n",
    "sc.pp.scale(adata_cp, max_value=10)"
   ]
  },
  {
   "cell_type": "code",
   "execution_count": 8,
   "id": "a58328f8-fa40-44e5-9727-5286f9f533c6",
   "metadata": {
    "pycharm": {
     "name": "#%%\n"
    }
   },
   "outputs": [],
   "source": [
    "# pre-prossessing\n",
    "desc.scale(adata_cp, zero_center=True, max_value=3)"
   ]
  },
  {
   "cell_type": "code",
   "execution_count": 9,
   "id": "89df24d0-f202-4851-b44a-a58145fbb66a",
   "metadata": {
    "pycharm": {
     "name": "#%%\n"
    }
   },
   "outputs": [
    {
     "name": "stdout",
     "output_type": "stream",
     "text": [
      "Start to process resolution= 0.8\n",
      "The number of cpu in your computer is 12\n",
      "WARNING:tensorflow:From D:\\Programming\\anaconda3\\envs\\scanal\\lib\\site-packages\\desc\\models\\desc.py:123: The name tf.keras.backend.set_session is deprecated. Please use tf.compat.v1.keras.backend.set_session instead.\n",
      "\n",
      "You must install pydot (`pip install pydot`) and install graphviz (see instructions at https://graphviz.gitlab.io/download/) for plot_model/model_to_dot to work.\n",
      "Checking whether D:/Document/Programming/Python/deepbio/symphony/github/scanalysis/scqqapy/data/h5/sarcoma/ae_weights.h5  exists in the directory\n",
      "Pretraining time is 0.009004354476928711\n",
      "WARNING:tensorflow:Compiled the loaded model, but the compiled metrics have yet to be built. `model.compile_metrics` will be empty until you train or evaluate the model.\n",
      "...number of clusters is unknown, Initialize cluster centroid using louvain method\n",
      "computing neighbors\n"
     ]
    },
    {
     "name": "stderr",
     "output_type": "stream",
     "text": [
      "D:\\Programming\\anaconda3\\envs\\scanal\\lib\\site-packages\\tqdm\\auto.py:22: TqdmWarning: IProgress not found. Please update jupyter and ipywidgets. See https://ipywidgets.readthedocs.io/en/stable/user_install.html\n",
      "  from .autonotebook import tqdm as notebook_tqdm\n"
     ]
    },
    {
     "name": "stdout",
     "output_type": "stream",
     "text": [
      "    finished: added to `.uns['neighbors']`\n",
      "    `.obsp['distances']`, distances for each pair of neighbors\n",
      "    `.obsp['connectivities']`, weighted adjacency matrix (0:00:13)\n",
      "running Louvain clustering\n",
      "    using the \"louvain\" package of Traag (2017)\n",
      "    finished: found 26 clusters and added\n",
      "    'louvain', the cluster labels (adata.obs, categorical) (0:00:00)\n",
      "Fine tuning encoder weights are saved to D:/Document/Programming/Python/deepbio/symphony/github/scanalysis/scqqapy/data/h5/sarcoma//encoder_weights.h5\n",
      "The value of delta_label of current 1 th iteration is 0.15684806124147113 >= tol 0.005\n",
      "Epoch 1/5\n",
      "47/47 [==============================] - 1s 12ms/step - loss: 0.2105\n",
      "Epoch 2/5\n",
      "47/47 [==============================] - 1s 12ms/step - loss: 0.2253\n",
      "Epoch 3/5\n",
      "47/47 [==============================] - 1s 12ms/step - loss: 0.2052\n",
      "Epoch 4/5\n",
      "47/47 [==============================] - 1s 12ms/step - loss: 0.1939\n",
      "Epoch 5/5\n",
      "47/47 [==============================] - 1s 12ms/step - loss: 0.1894\n",
      "The value of delta_label of current 2 th iteration is 0.3501414544849393 >= tol 0.005\n",
      "Epoch 1/5\n",
      "47/47 [==============================] - 1s 12ms/step - loss: 0.1845\n",
      "Epoch 2/5\n",
      "47/47 [==============================] - 1s 12ms/step - loss: 0.1806\n",
      "Epoch 3/5\n",
      "47/47 [==============================] - 1s 12ms/step - loss: 0.1772\n",
      "Epoch 4/5\n",
      "47/47 [==============================] - 1s 12ms/step - loss: 0.1743\n",
      "Epoch 5/5\n",
      "47/47 [==============================] - 1s 11ms/step - loss: 0.1717\n",
      "The value of delta_label of current 3 th iteration is 0.2093526377101015 >= tol 0.005\n",
      "Epoch 1/5\n",
      "47/47 [==============================] - 1s 11ms/step - loss: 0.1888\n",
      "Epoch 2/5\n",
      "47/47 [==============================] - 1s 11ms/step - loss: 0.1852\n",
      "Epoch 3/5\n",
      "47/47 [==============================] - 1s 11ms/step - loss: 0.1825\n",
      "Epoch 4/5\n",
      "47/47 [==============================] - 1s 11ms/step - loss: 0.1800\n",
      "Epoch 5/5\n",
      "47/47 [==============================] - 1s 11ms/step - loss: 0.1779\n",
      "The value of delta_label of current 4 th iteration is 0.08678648693626227 >= tol 0.005\n",
      "Epoch 1/5\n",
      "47/47 [==============================] - 1s 11ms/step - loss: 0.1915\n",
      "Epoch 2/5\n",
      "47/47 [==============================] - 1s 11ms/step - loss: 0.1884\n",
      "Epoch 3/5\n",
      "47/47 [==============================] - 1s 11ms/step - loss: 0.1860\n",
      "Epoch 4/5\n",
      "47/47 [==============================] - 1s 11ms/step - loss: 0.1840\n",
      "Epoch 5/5\n",
      "47/47 [==============================] - 1s 11ms/step - loss: 0.1822\n",
      "The value of delta_label of current 5 th iteration is 0.16084207022799135 >= tol 0.005\n",
      "Epoch 1/5\n",
      "47/47 [==============================] - 1s 11ms/step - loss: 0.1932\n",
      "Epoch 2/5\n",
      "47/47 [==============================] - 1s 11ms/step - loss: 0.1906\n",
      "Epoch 3/5\n",
      "47/47 [==============================] - 1s 11ms/step - loss: 0.1886\n",
      "Epoch 4/5\n",
      "47/47 [==============================] - 1s 11ms/step - loss: 0.1868\n",
      "Epoch 5/5\n",
      "47/47 [==============================] - 1s 11ms/step - loss: 0.1853\n",
      "Fine tuning encoder weights are saved to D:/Document/Programming/Python/deepbio/symphony/github/scanalysis/scqqapy/data/h5/sarcoma//encoder_weights.h5\n",
      "The value of delta_label of current 6 th iteration is 0.18680312864037277 >= tol 0.005\n",
      "Epoch 1/5\n",
      "47/47 [==============================] - 1s 11ms/step - loss: 0.1945\n",
      "Epoch 2/5\n",
      "47/47 [==============================] - 1s 11ms/step - loss: 0.1920\n",
      "Epoch 3/5\n",
      "47/47 [==============================] - 1s 11ms/step - loss: 0.1901\n",
      "Epoch 4/5\n",
      "47/47 [==============================] - 1s 11ms/step - loss: 0.1886\n",
      "Epoch 5/5\n",
      "47/47 [==============================] - 1s 11ms/step - loss: 0.1873\n",
      "The value of delta_label of current 7 th iteration is 0.046430354468297554 >= tol 0.005\n",
      "Epoch 1/5\n",
      "47/47 [==============================] - 1s 11ms/step - loss: 0.1958\n",
      "Epoch 2/5\n",
      "47/47 [==============================] - 1s 11ms/step - loss: 0.1935\n",
      "Epoch 3/5\n",
      "47/47 [==============================] - 1s 12ms/step - loss: 0.1917\n",
      "Epoch 4/5\n",
      "47/47 [==============================] - 1s 11ms/step - loss: 0.1902\n",
      "Epoch 5/5\n",
      "47/47 [==============================] - 1s 11ms/step - loss: 0.1889\n",
      "The value of delta_label of current 8 th iteration is 0.028623731070061574 >= tol 0.005\n",
      "Epoch 1/5\n",
      "47/47 [==============================] - 1s 11ms/step - loss: 0.1975\n",
      "Epoch 2/5\n",
      "47/47 [==============================] - 1s 12ms/step - loss: 0.1953\n",
      "Epoch 3/5\n",
      "47/47 [==============================] - 1s 12ms/step - loss: 0.1936\n",
      "Epoch 4/5\n",
      "47/47 [==============================] - 1s 12ms/step - loss: 0.1921\n",
      "Epoch 5/5\n",
      "47/47 [==============================] - 1s 11ms/step - loss: 0.1908\n",
      "The value of delta_label of current 9 th iteration is 0.19212847395573307 >= tol 0.005\n",
      "Epoch 1/5\n",
      "47/47 [==============================] - 1s 11ms/step - loss: 0.1996\n",
      "Epoch 2/5\n",
      "47/47 [==============================] - 1s 11ms/step - loss: 0.1975\n",
      "Epoch 3/5\n",
      "47/47 [==============================] - 1s 11ms/step - loss: 0.1958\n",
      "Epoch 4/5\n",
      "47/47 [==============================] - 1s 11ms/step - loss: 0.1943\n",
      "Epoch 5/5\n",
      "47/47 [==============================] - 1s 11ms/step - loss: 0.1930\n",
      "The value of delta_label of current 10 th iteration is 0.03303378265934432 >= tol 0.005\n",
      "Epoch 1/5\n",
      "47/47 [==============================] - 1s 11ms/step - loss: 0.2017\n",
      "Epoch 2/5\n",
      "47/47 [==============================] - 1s 11ms/step - loss: 0.1995\n",
      "Epoch 3/5\n",
      "47/47 [==============================] - 1s 11ms/step - loss: 0.1977\n",
      "Epoch 4/5\n",
      "47/47 [==============================] - 1s 11ms/step - loss: 0.1962\n",
      "Epoch 5/5\n",
      "47/47 [==============================] - 1s 11ms/step - loss: 0.1949\n",
      "Fine tuning encoder weights are saved to D:/Document/Programming/Python/deepbio/symphony/github/scanalysis/scqqapy/data/h5/sarcoma//encoder_weights.h5\n",
      "The value of delta_label of current 11 th iteration is 0.03686137460475953 >= tol 0.005\n",
      "Epoch 1/5\n",
      "47/47 [==============================] - 1s 11ms/step - loss: 0.2033\n",
      "Epoch 2/5\n",
      "47/47 [==============================] - 1s 11ms/step - loss: 0.2010\n",
      "Epoch 3/5\n",
      "47/47 [==============================] - 1s 11ms/step - loss: 0.1991\n",
      "Epoch 4/5\n",
      "47/47 [==============================] - 1s 11ms/step - loss: 0.1975\n",
      "Epoch 5/5\n",
      "47/47 [==============================] - 1s 11ms/step - loss: 0.1961\n",
      "The value of delta_label of current 12 th iteration is 0.04651356298885006 >= tol 0.005\n",
      "Epoch 1/5\n",
      "47/47 [==============================] - 1s 12ms/step - loss: 0.2039\n",
      "Epoch 2/5\n",
      "47/47 [==============================] - 1s 12ms/step - loss: 0.2016\n",
      "Epoch 3/5\n",
      "47/47 [==============================] - 1s 12ms/step - loss: 0.1998\n",
      "Epoch 4/5\n",
      "47/47 [==============================] - 1s 11ms/step - loss: 0.1981\n",
      "Epoch 5/5\n",
      "47/47 [==============================] - 1s 11ms/step - loss: 0.1967\n",
      "The value of delta_label of current 13 th iteration is 0.2612747545348644 >= tol 0.005\n",
      "Epoch 1/5\n",
      "47/47 [==============================] - 1s 11ms/step - loss: 0.2035\n",
      "Epoch 2/5\n",
      "47/47 [==============================] - 1s 11ms/step - loss: 0.2016\n",
      "Epoch 3/5\n",
      "47/47 [==============================] - 1s 11ms/step - loss: 0.1999\n",
      "Epoch 4/5\n",
      "47/47 [==============================] - 1s 11ms/step - loss: 0.1985\n",
      "Epoch 5/5\n",
      "47/47 [==============================] - 1s 11ms/step - loss: 0.1973\n",
      "The value of delta_label of current 14 th iteration is 0.0835413546347146 >= tol 0.005\n",
      "Epoch 1/5\n",
      "47/47 [==============================] - 1s 11ms/step - loss: 0.2030\n",
      "Epoch 2/5\n",
      "47/47 [==============================] - 1s 11ms/step - loss: 0.2016\n",
      "Epoch 3/5\n",
      "47/47 [==============================] - 1s 11ms/step - loss: 0.2004\n",
      "Epoch 4/5\n",
      "47/47 [==============================] - 1s 12ms/step - loss: 0.1994\n",
      "Epoch 5/5\n",
      "47/47 [==============================] - 1s 11ms/step - loss: 0.1985\n",
      "The value of delta_label of current 15 th iteration is 0.08928274255283741 >= tol 0.005\n",
      "Epoch 1/5\n",
      "47/47 [==============================] - 1s 11ms/step - loss: 0.2025\n",
      "Epoch 2/5\n",
      "47/47 [==============================] - 1s 12ms/step - loss: 0.2016\n",
      "Epoch 3/5\n",
      "47/47 [==============================] - 1s 12ms/step - loss: 0.2008\n",
      "Epoch 4/5\n",
      "47/47 [==============================] - 1s 12ms/step - loss: 0.2001\n",
      "Epoch 5/5\n",
      "47/47 [==============================] - 1s 11ms/step - loss: 0.1994\n",
      "Fine tuning encoder weights are saved to D:/Document/Programming/Python/deepbio/symphony/github/scanalysis/scqqapy/data/h5/sarcoma//encoder_weights.h5\n",
      "The value of delta_label of current 16 th iteration is 0.14220336162423033 >= tol 0.005\n",
      "Epoch 1/5\n",
      "47/47 [==============================] - 1s 11ms/step - loss: 0.2021\n",
      "Epoch 2/5\n",
      "47/47 [==============================] - 1s 11ms/step - loss: 0.2015\n",
      "Epoch 3/5\n",
      "47/47 [==============================] - 1s 12ms/step - loss: 0.2009\n",
      "Epoch 4/5\n",
      "47/47 [==============================] - 1s 12ms/step - loss: 0.2003\n",
      "Epoch 5/5\n",
      "47/47 [==============================] - 1s 11ms/step - loss: 0.1998\n",
      "The value of delta_label of current 17 th iteration is 0.04618072890664004 >= tol 0.005\n",
      "Epoch 1/5\n",
      "47/47 [==============================] - 1s 11ms/step - loss: 0.2016\n",
      "Epoch 2/5\n",
      "47/47 [==============================] - 1s 11ms/step - loss: 0.2011\n",
      "Epoch 3/5\n",
      "47/47 [==============================] - 1s 11ms/step - loss: 0.2007\n",
      "Epoch 4/5\n",
      "47/47 [==============================] - 1s 12ms/step - loss: 0.2002\n",
      "Epoch 5/5\n",
      "47/47 [==============================] - 1s 11ms/step - loss: 0.1997\n",
      "The value of delta_label of current 18 th iteration is 0.13562988850058247 >= tol 0.005\n",
      "Epoch 1/5\n",
      "47/47 [==============================] - 1s 11ms/step - loss: 0.2012\n",
      "Epoch 2/5\n",
      "47/47 [==============================] - 1s 12ms/step - loss: 0.2007\n",
      "Epoch 3/5\n",
      "47/47 [==============================] - 1s 11ms/step - loss: 0.2003\n",
      "Epoch 4/5\n",
      "47/47 [==============================] - 1s 11ms/step - loss: 0.1999\n",
      "Epoch 5/5\n",
      "47/47 [==============================] - 1s 11ms/step - loss: 0.1995\n",
      "delta_label  0.0008320852055250458 < tol  0.005\n",
      "Reached tolerance threshold. Stop training.\n",
      "WARNING:tensorflow:Compiled the loaded model, but the compiled metrics have yet to be built. `model.compile_metrics` will be empty until you train or evaluate the model.\n",
      "The final prediction cluster is:\n",
      "0     3164\n",
      "1       14\n",
      "2      951\n",
      "3        2\n",
      "4     2434\n",
      "5     1979\n",
      "6        2\n",
      "7       51\n",
      "8      898\n",
      "9      506\n",
      "10    2017\n",
      "dtype: int64\n",
      "The desc has been trained successfully!!!!!!\n",
      "The summary of desc model is:\n",
      "Model: \"model\"\n",
      "_________________________________________________________________\n",
      " Layer (type)                Output Shape              Param #   \n",
      "=================================================================\n",
      " input (InputLayer)          [(None, 34540)]           0         \n",
      "                                                                 \n",
      " encoder_0 (Dense)           (None, 32)                1105312   \n",
      "                                                                 \n",
      " encoder_1 (Dense)           (None, 16)                528       \n",
      "                                                                 \n",
      " clustering (ClusteringLayer  (None, 26)               416       \n",
      " )                                                               \n",
      "                                                                 \n",
      "=================================================================\n",
      "Total params: 1,106,256\n",
      "Trainable params: 1,106,256\n",
      "Non-trainable params: 0\n",
      "_________________________________________________________________\n",
      "The runtime of (resolution=0.8)is: 77.46631813049316\n",
      "computing tSNE\n",
      "    using sklearn.manifold.TSNE\n"
     ]
    },
    {
     "name": "stderr",
     "output_type": "stream",
     "text": [
      "D:\\Programming\\anaconda3\\envs\\scanal\\lib\\site-packages\\scanpy\\tools\\_tsne.py:113: UserWarning: In previous versions of scanpy, calling tsne with n_jobs > 1 would use MulticoreTSNE. Now this uses the scikit-learn version of TSNE by default. If you'd like the old behaviour (which is deprecated), pass 'use_fast_tsne=True'. Note, MulticoreTSNE is not actually faster anymore.\n",
      "  warnings.warn(\n",
      "D:\\Programming\\anaconda3\\envs\\scanal\\lib\\site-packages\\sklearn\\manifold\\_t_sne.py:795: FutureWarning: The default initialization in TSNE will change from 'random' to 'pca' in 1.2.\n",
      "  warnings.warn(\n"
     ]
    },
    {
     "name": "stdout",
     "output_type": "stream",
     "text": [
      "    finished: added\n",
      "    'X_tsne', tSNE coordinates (adata.obsm) (0:00:49)\n",
      "tsne finished and added X_tsne0.8  into the umap coordinates (adata.obsm)\n",
      "\n",
      "computing neighbors\n",
      "    finished: added to `.uns['neighbors']`\n",
      "    `.obsp['distances']`, distances for each pair of neighbors\n",
      "    `.obsp['connectivities']`, weighted adjacency matrix (0:00:00)\n",
      "computing UMAP\n",
      "    finished: added\n",
      "    'X_umap', UMAP coordinates (adata.obsm) (0:00:07)\n",
      "umap finished and added X_umap0.8  into the umap coordinates (adata.obsm)\n",
      "\n",
      "The run time for all resolution is: 136.62918305397034\n",
      "After training, the information of adata is:\n",
      " AnnData object with n_obs × n_vars = 12018 × 34540\n",
      "    obs: 'type', 'sample', 'batch', 'n_counts', 'pct_ribo', 'pct_hb', 'pct_mito', 'pct_chrY', 'cnt_XIST', 'n_genes', 'S_score', 'G2M_score', 'phase', 'doublet_scores', 'predicted_doublets', 'doublet_info', 'desc_0.8'\n",
      "    var: 'gene_name', 'n_cells', 'mean', 'std'\n",
      "    uns: 'doublet_info_colors', 'sample_colors', 'log1p', 'tsne', 'umap', 'prob_matrix0.8'\n",
      "    obsm: 'X_Embeded_z0.8', 'X_tsne', 'X_tsne0.8', 'X_umap', 'X_umap0.8'\n",
      "    obsp: 'distances', 'connectivities'\n"
     ]
    }
   ],
   "source": [
    "adata_cp = desc.train(\n",
    "    adata_cp,\n",
    "    dims=[adata_cp.shape[1], 32, 16],\n",
    "    tol=0.005,\n",
    "    n_neighbors=10,\n",
    "    batch_size=256,\n",
    "    louvain_resolution=[0.8],\n",
    "    save_dir=args['data_work_dir'],\n",
    "    do_tsne=True,\n",
    "    learning_rate=300,\n",
    "    do_umap=True,\n",
    "    num_Cores_tsne=4,\n",
    "    save_encoder_weights=True,\n",
    ")"
   ]
  },
  {
   "cell_type": "code",
   "execution_count": 10,
   "id": "485ce6c6-c71e-4c84-9e89-7879eff77ad5",
   "metadata": {
    "pycharm": {
     "name": "#%%\n"
    }
   },
   "outputs": [],
   "source": [
    "adata_cp.obs[\"max.prob0.8\"] = np.max(adata_cp.uns[\"prob_matrix0.8\"], axis=1)"
   ]
  },
  {
   "cell_type": "code",
   "execution_count": 11,
   "id": "008406df-e603-4ae5-94f9-dd67bb245b1f",
   "metadata": {},
   "outputs": [
    {
     "name": "stdout",
     "output_type": "stream",
     "text": [
      "WARNING: saving figure to file figures\\tsne0.8.pdf\n"
     ]
    },
    {
     "name": "stderr",
     "output_type": "stream",
     "text": [
      "D:\\Programming\\anaconda3\\envs\\scanal\\lib\\site-packages\\scanpy\\plotting\\_utils.py:314: UserWarning: Matplotlib is currently using agg, which is a non-GUI backend, so cannot show the figure.\n",
      "  pl.show()\n"
     ]
    }
   ],
   "source": [
    "#tsne plot \n",
    "sc.pl.scatter(adata_cp, basis=\"tsne0.8\", color=['desc_0.8', \"max.prob0.8\"], save='.pdf')\n",
    "saveTo(old_fn='tsne0.8', new_fn='desc_tsne0.8', kind='.pdf')"
   ]
  },
  {
   "cell_type": "code",
   "execution_count": 12,
   "id": "04166b22-1cb5-4766-bdc9-249ff0378ba7",
   "metadata": {
    "pycharm": {
     "name": "#%%\n"
    }
   },
   "outputs": [
    {
     "name": "stdout",
     "output_type": "stream",
     "text": [
      "WARNING: saving figure to file figures\\umap0.8.pdf\n"
     ]
    },
    {
     "name": "stderr",
     "output_type": "stream",
     "text": [
      "D:\\Programming\\anaconda3\\envs\\scanal\\lib\\site-packages\\scanpy\\plotting\\_utils.py:314: UserWarning: Matplotlib is currently using agg, which is a non-GUI backend, so cannot show the figure.\n",
      "  pl.show()\n"
     ]
    }
   ],
   "source": [
    "#umap plot\n",
    "sc.pl.scatter(adata_cp, basis=\"umap0.8\", color=['desc_0.8', \"max.prob0.8\"], save='.pdf')\n",
    "saveTo(old_fn='umap0.8', new_fn='desc_umap0.8', kind='.pdf')"
   ]
  },
  {
   "cell_type": "code",
   "execution_count": 14,
   "id": "66a79689-e6b0-4a9e-b4a1-067a64599157",
   "metadata": {},
   "outputs": [],
   "source": [
    "adata_cp.obs[\"desc_0.8\"] = adata_cp.obs[\"desc_0.8\"].astype(str)"
   ]
  },
  {
   "cell_type": "code",
   "execution_count": null,
   "id": "ec948b1d-6e77-4c83-9a76-2a2bfff657ac",
   "metadata": {
    "pycharm": {
     "name": "#%%\n"
    }
   },
   "outputs": [],
   "source": [
    "# sc.pl.stacked_violin(adata, [\"MS4A1\", \"GNLY\", \"CD3E\", \"CD14\", \"FCER1A\", \"FCGR3A\", \"LYZ\", \"PPBP\", \"CD8A\"], groupby='desc_0.8', figsize=(8,10), swap_axes=True)"
   ]
  },
  {
   "cell_type": "code",
   "execution_count": 15,
   "id": "66e5bc4a-a832-48c9-98b1-2820e7076151",
   "metadata": {},
   "outputs": [],
   "source": [
    "adata.obs['desc_0.8'], adata.obs['max.prob0.8'] = adata_cp.obs['desc_0.8'], adata_cp.obs['max.prob0.8']\n",
    "adata.uns['prob_matrix0.8'], adata.uns['desc_0.8_colors'] = adata_cp.uns['prob_matrix0.8'], adata_cp.uns['desc_0.8_colors']\n",
    "adata.obsm['X_Embeded_z0.8'], adata.obsm['X_tsne0.8'], adata.obsm['X_umap0.8'] = adata_cp.obsm['X_Embeded_z0.8'], adata_cp.obsm['X_tsne0.8'], adata_cp.obsm['X_umap0.8']"
   ]
  },
  {
   "cell_type": "code",
   "execution_count": 16,
   "id": "649f6d18-2fe9-4b07-843c-9f689e469891",
   "metadata": {},
   "outputs": [],
   "source": [
    "del(adata_cp)"
   ]
  },
  {
   "cell_type": "code",
   "execution_count": 17,
   "id": "97b58bba-d993-4a39-83da-19c2ba29863d",
   "metadata": {},
   "outputs": [],
   "source": [
    "adata.write(args['data_work_dir'] + 'adata_be.h5ad')"
   ]
  }
 ],
 "metadata": {
  "kernelspec": {
   "display_name": "Python [conda env:scanal] *",
   "language": "python",
   "name": "conda-env-scanal-py"
  },
  "language_info": {
   "codemirror_mode": {
    "name": "ipython",
    "version": 3
   },
   "file_extension": ".py",
   "mimetype": "text/x-python",
   "name": "python",
   "nbconvert_exporter": "python",
   "pygments_lexer": "ipython3",
   "version": "3.8.13"
  }
 },
 "nbformat": 4,
 "nbformat_minor": 5
}
